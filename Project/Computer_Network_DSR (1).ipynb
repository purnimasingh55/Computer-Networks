{
  "nbformat": 4,
  "nbformat_minor": 0,
  "metadata": {
    "colab": {
      "provenance": []
    },
    "kernelspec": {
      "name": "python3",
      "display_name": "Python 3"
    },
    "language_info": {
      "name": "python"
    }
  },
  "cells": [
    {
      "cell_type": "code",
      "execution_count": null,
      "metadata": {
        "id": "PmOcMzAMyShj"
      },
      "outputs": [],
      "source": [
        "import networkx as nx\n",
        "G = nx.Graph()"
      ]
    },
    {
      "cell_type": "code",
      "source": [
        "num_nodes=int(input(\"Enter number of nodes in the graph:\"))\n",
        "\n",
        "#addinng the nodes into the graph\n",
        "for i in range(num_nodes):\n",
        "  G.add_node(i)\n",
        "\n",
        "#accepting the adjacency matrix as input\n",
        "print(\"Enter the adjacency matrix:\")\n",
        "adj_mat=[]\n",
        "neighbours={}\n",
        "for i in range (num_nodes):\n",
        "  x = [int(x) for x in input(\"Enter the row : \").split()]\n",
        "  adj_mat.append(x)\n",
        "for i in range(num_nodes):\n",
        "  l=[]\n",
        "  for j in range(num_nodes):\n",
        "    k=adj_mat[i][j]\n",
        "    if(k==1):\n",
        "      G.add_edge(i, j)\n",
        "      l.append(j)\n",
        "  neighbours[i]=l\n"
      ],
      "metadata": {
        "colab": {
          "base_uri": "https://localhost:8080/"
        },
        "id": "JBIOuPQx3or5",
        "outputId": "ec75a611-2cd4-44d3-abb2-dec6b4f0408b"
      },
      "execution_count": null,
      "outputs": [
        {
          "name": "stdout",
          "output_type": "stream",
          "text": [
            "Enter number of nodes in the graph:5\n",
            "Enter the adjacency matrix:\n",
            "Enter the row : 0 1 0 1 0\n",
            "Enter the row : 1 0 1 0 1\n",
            "Enter the row : 0 1 0 1 1\n",
            "Enter the row : 1 0 1 0 0\n",
            "Enter the row :  0 1 1 0 0\n"
          ]
        }
      ]
    },
    {
      "cell_type": "code",
      "source": [
        "nx.draw(G,with_labels=True)"
      ],
      "metadata": {
        "colab": {
          "base_uri": "https://localhost:8080/",
          "height": 319
        },
        "id": "oxBme82r3o15",
        "outputId": "f61978c6-e9ac-4fbf-c2c7-93a4bd25e31f"
      },
      "execution_count": null,
      "outputs": [
        {
          "output_type": "display_data",
          "data": {
            "text/plain": [
              "<Figure size 432x288 with 1 Axes>"
            ],
            "image/png": "[encoded data removed]"
          },
          "metadata": {}
        }
      ]
    },
    {
      "cell_type": "code",
      "source": [
        "#global final_pat"
      ],
      "metadata": {
        "id": "Pjks4IfMNhrx"
      },
      "execution_count": null,
      "outputs": []
    },
    {
      "cell_type": "code",
      "source": [
        "# Python program to print all paths from a source to destination.\n",
        "\n",
        "from collections import defaultdict\n",
        "temp1=[]\n",
        "# This class represents a directed graph\n",
        "# using adjacency list representation\n",
        "class Graph:\n",
        "\n",
        "\tdef __init__(self, vertices):\n",
        "\t\t# No. of vertices\n",
        "\t\tself.V = vertices\n",
        "\t\t\n",
        "\t\t# default dictionary to store graph\n",
        "\t\tself.graph = defaultdict(list)\n",
        "\n",
        "\t# function to add an edge to graph\n",
        "\tdef addEdge(self, u, v):\n",
        "\t\tself.graph[u].append(v)\n",
        "\n",
        "\t'''A recursive function to print all paths from 'u' to 'd'.\n",
        "\tvisited[] keeps track of vertices in current path.\n",
        "\tpath[] stores actual vertices and path_index is current\n",
        "\tindex in path[]'''\n",
        "\tdef printAllPathsUtil(self, u, d, visited, path):\n",
        "\t\tglobal l1\n",
        "\t\tl1=[]\n",
        "\t\t# Mark the current node as visited and store in path\n",
        "\t\tvisited[u]= True\n",
        "\t\tpath.append(u)\n",
        "\n",
        "\t\t# If current vertex is same as destination, then print\n",
        "\t\t# current path[]\n",
        "\t\tif u == d:\n",
        "\t\t\tprint (path,\"*\")\n",
        "\t\t\tprint (type(path))   \n",
        "\t\t\ttemp1.append(path)\n",
        "\t\t\tprint(temp1)\n",
        "\n",
        "\t\t\t\n",
        "\t\telse:\n",
        "\t\t\t# If current vertex is not destination\n",
        "\t\t\t# Recur for all the vertices adjacent to this vertex\n",
        "\t\t\tfor i in self.graph[u]:\n",
        "\t\t\t\tif visited[i]== False:\n",
        "\t\t\t\t\tself.printAllPathsUtil(i, d, visited, path)\n",
        "\t\t\t\t\t\n",
        "\t\t# Remove current vertex from path[] and mark it as unvisited\n",
        "\t\tpath.pop()\n",
        "\t\tvisited[u]= False\n",
        "\n",
        "\n",
        "\n",
        "\t# Prints all paths from 's' to 'd'\n",
        "\tdef printAllPaths(self, s, d):\n",
        "\n",
        "\t\t# Mark all the vertices as not visited\n",
        "\t\tvisited =[False]*(self.V)\n",
        "\n",
        "\t\t# Create an array to store paths\n",
        "\t\tpath = []\n",
        "\t\tprint('Before function call', temp1)\n",
        "\t\t# Call the recursive helper function to print all paths\n",
        "    #print('Before function call', temp1)\n",
        "\t\tself.printAllPathsUtil(s, d, visited, path)\n",
        "\t\tprint('After function call', temp1)\n",
        "\n",
        "\n",
        "#Create a graph given in the above diagram\n",
        "g = Graph(num_nodes)\n",
        "for i in range(num_nodes):\n",
        "  for j in range(num_nodes):\n",
        "    k=adj_mat[i][j]\n",
        "    if(k==1):\n",
        "      g.addEdge(i, j)\n",
        "\n",
        "      \n",
        "# g.addEdge(0, 1)\n",
        "# g.addEdge(0, 2)\n",
        "# g.addEdge(0, 3)\n",
        "# g.addEdge(2, 0)\n",
        "# g.addEdge(2, 1)\n",
        "# g.addEdge(1, 3)\n",
        "s = 0 ; d = 4\n",
        "print (\"Following are all different paths from % d to % d :\" %(s, d))\n",
        "g.printAllPaths(s, d)\n",
        "\n",
        "print(temp1)"
      ],
      "metadata": {
        "colab": {
          "base_uri": "https://localhost:8080/"
        },
        "id": "R6JcphevFHBh",
        "outputId": "768f53d3-493b-4b82-9815-52e2a52137ee"
      },
      "execution_count": null,
      "outputs": [
        {
          "output_type": "stream",
          "name": "stdout",
          "text": [
            "Following are all different paths from  0 to  4 :\n",
            "Before function call []\n",
            "[0, 1, 2, 4] *\n",
            "<class 'list'>\n",
            "[[0, 1, 2, 4]]\n",
            "[0, 1, 4] *\n",
            "<class 'list'>\n",
            "[[0, 1, 4], [0, 1, 4]]\n",
            "[0, 3, 2, 1, 4] *\n",
            "<class 'list'>\n",
            "[[0, 3, 2, 1, 4], [0, 3, 2, 1, 4], [0, 3, 2, 1, 4]]\n",
            "[0, 3, 2, 4] *\n",
            "<class 'list'>\n",
            "[[0, 3, 2, 4], [0, 3, 2, 4], [0, 3, 2, 4], [0, 3, 2, 4]]\n",
            "After function call [[], [], [], []]\n",
            "[[], [], [], []]\n"
          ]
        }
      ]
    },
    {
      "cell_type": "code",
      "source": [
        "l1=[]"
      ],
      "metadata": {
        "id": "hG9wYsLsiVbu"
      },
      "execution_count": null,
      "outputs": []
    },
    {
      "cell_type": "code",
      "source": [
        "# Python3 program to print all paths of\n",
        "# source to destination in given graph\n",
        "from typing import List\n",
        "from collections import deque\n",
        "\n",
        "# Utility function for printing\n",
        "# the found path in graph\n",
        "def printpath(path: List[int]) -> None:\n",
        "\tl=[]\n",
        "\tsize = len(path)\n",
        "\tfor i in range(size):\n",
        "\t\tprint(path[i], end = \" \")\n",
        "\t\tl.append(path[i])\n",
        "\t\t\n",
        "\tprint()\n",
        "\tl1.append(l)\n",
        "\n",
        "# Utility function to check if current\n",
        "# vertex is already present in path\n",
        "def isNotVisited(x: int, path: List[int]) -> int:\n",
        "\n",
        "\tsize = len(path)\n",
        "\tfor i in range(size):\n",
        "\t\tif (path[i] == x):\n",
        "\t\t\treturn 0\n",
        "\t\t\t\n",
        "\treturn 1\n",
        "\n",
        "# Utility function for finding paths in graph\n",
        "# from source to destination\n",
        "def findpaths(g: List[List[int]], src: int,\n",
        "\t\t\tdst: int, v: int) -> None:\n",
        "\t\t\t\t\n",
        "\t# Create a queue which stores\n",
        "\t# the paths\n",
        "\tq = deque()\n",
        "\n",
        "\t# Path vector to store the current path\n",
        "\tpath = []\n",
        "\tpath.append(src)\n",
        "\tq.append(path.copy())\n",
        "\t\n",
        "\twhile q:\n",
        "\t\tpath = q.popleft()\n",
        "\t\tlast = path[len(path) - 1]\n",
        "\n",
        "\t\t# If last vertex is the desired destination\n",
        "\t\t# then print the path\n",
        "\t\tif (last == dst):\n",
        "\t\t\tprintpath(path)\n",
        "   \n",
        "      \n",
        "\n",
        "\t\t# Traverse to all the nodes connected to\n",
        "\t\t# current vertex and push new path to queue\n",
        "\t\tfor i in range(len(g[last])):\n",
        "\t\t\tif (isNotVisited(g[last][i], path)):\n",
        "\t\t\t\tnewpath = path.copy()\n",
        "\t\t\t\tnewpath.append(g[last][i])\n",
        "\t\t\t\tq.append(newpath)\n",
        "\n",
        "# Driver code\n",
        "if __name__ == \"__main__\":\n",
        "\t\n",
        "\n",
        "\tg = [[] for _ in range(num_nodes)]\n",
        "\n",
        "\tfor i in range(num_nodes):\n",
        "\t\tfor j in range(num_nodes):\n",
        "\t\t\t\tk=adj_mat[i][j]\n",
        "\t\t\t\tif(k==1):\n",
        "\t\t\t\t\t\t\t\tg[i].append(j)\n",
        "\t# Construct a graph\n",
        "\t# g[0].append(3)\n",
        "\t# g[0].append(1)\n",
        "\t# g[0].append(2)\n",
        "\t# g[1].append(3)\n",
        "\t# g[2].append(0)\n",
        "\t# g[2].append(1)\n",
        "\tprint(g)\n",
        " print(\"Enter the source node:\")\n",
        " src=int(input(\"Enter the source\"))\n",
        "\tsrc = 2\n",
        "\tdst = 3\n",
        "\tprint(\"path from src {} to dst {} are\".format(src, dst))\n",
        "\n",
        "\t# Function for finding the paths\n",
        "\tfindpaths(g, src, dst, num_nodes)\n",
        "\tnew_k = []\n",
        "\tfor elem in l1:\n",
        "\t\tif elem not in new_k:\n",
        "\t\t\t\tnew_k.append(elem)\n",
        "\tl1 = new_k\n",
        "\tprint(l1)\n",
        "# This code is contributed by sanjeev2552\n"
      ],
      "metadata": {
        "colab": {
          "base_uri": "https://localhost:8080/"
        },
        "id": "kufnkrQ_e4oq",
        "outputId": "953abae2-251b-4520-9cb5-116608fa4029"
      },
      "execution_count": null,
      "outputs": [
        {
          "output_type": "stream",
          "name": "stdout",
          "text": [
            "[[1, 3], [0, 2, 4], [1, 3, 4], [0, 2], [1, 2]]\n",
            "path from src 2 to dst 3 are\n",
            "2 3 \n",
            "2 1 0 3 \n",
            "2 4 1 0 3 \n",
            "[[2, 3], [2, 1, 0, 3], [2, 4, 1, 0, 3]]\n"
          ]
        }
      ]
    },
    {
      "cell_type": "code",
      "source": [
        "length=[]\n",
        "for i in (l1):\n",
        "  length.append(len(i))\n",
        "print(length)\n",
        "\n"
      ],
      "metadata": {
        "colab": {
          "base_uri": "https://localhost:8080/"
        },
        "id": "6pcbzinmNxz6",
        "outputId": "b10a6c28-f8b9-4346-e97e-20b934c57db8"
      },
      "execution_count": null,
      "outputs": [
        {
          "output_type": "stream",
          "name": "stdout",
          "text": [
            "[2, 4, 5]\n"
          ]
        }
      ]
    },
    {
      "cell_type": "code",
      "source": [
        "#the path that is selected to send the reply\n",
        "minpos = length.index(min(length))\n",
        "print(minpos)\n"
      ],
      "metadata": {
        "colab": {
          "base_uri": "https://localhost:8080/"
        },
        "id": "A9Bk7l50OJLN",
        "outputId": "623186f2-057c-4753-9dad-b6339c9ce7dc"
      },
      "execution_count": null,
      "outputs": [
        {
          "output_type": "stream",
          "name": "stdout",
          "text": [
            "0\n"
          ]
        }
      ]
    },
    {
      "cell_type": "code",
      "source": [
        "print(\"The shortest path through which the reply is given to source by destination is:\",l1[minpos])"
      ],
      "metadata": {
        "colab": {
          "base_uri": "https://localhost:8080/"
        },
        "id": "K9MJfa1MnfdM",
        "outputId": "fda878d2-ee80-4006-983d-6c4826af1409"
      },
      "execution_count": null,
      "outputs": [
        {
          "output_type": "stream",
          "name": "stdout",
          "text": [
            "The shortest path through which the reply is given to source by destination is: [2, 3]\n"
          ]
        }
      ]
    },
    {
      "cell_type": "code",
      "source": [
        "nx.draw(G,with_labels=True)"
      ],
      "metadata": {
        "id": "8TqmEuax68U0",
        "outputId": "86874c60-1932-41b1-881f-4b5e43f04a7b",
        "colab": {
          "base_uri": "https://localhost:8080/",
          "height": 319
        }
      },
      "execution_count": null,
      "outputs": [
        {
          "output_type": "display_data",
          "data": {
            "text/plain": [
              "<Figure size 432x288 with 1 Axes>"
            ],
            "image/png": "[encoded data removed]"
          },
          "metadata": {}
        }
      ]
    },
    {
      "cell_type": "code",
      "source": [
        "#G = nx.erdos_renyi_graph(5, 1)\n",
        "import matplotlib.pyplot as plt\n",
        "color_map = []\n",
        "for node in G:\n",
        "    if node in l1[minpos]:\n",
        "        color_map.append('green')\n",
        "    else: \n",
        "        color_map.append('blue')      \n",
        "nx.draw(G, node_color=color_map, with_labels=True)\n",
        "plt.show()"
      ],
      "metadata": {
        "colab": {
          "base_uri": "https://localhost:8080/",
          "height": 319
        },
        "id": "FTz5bKfO6XI2",
        "outputId": "7872065e-8163-4193-ae7f-850e4a408c97"
      },
      "execution_count": null,
      "outputs": [
        {
          "output_type": "display_data",
          "data": {
            "text/plain": [
              "<Figure size 432x288 with 1 Axes>"
            ],
            "image/png": "[encoded data removed]"
          },
          "metadata": {}
        }
      ]
    }
  ]
}